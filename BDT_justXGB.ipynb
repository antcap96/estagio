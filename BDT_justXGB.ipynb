{
 "cells": [
  {
   "cell_type": "code",
   "execution_count": 91,
   "metadata": {},
   "outputs": [],
   "source": [
    "from __future__ import division\n",
    "from __future__ import print_function\n",
    "\n",
    "import matplotlib\n",
    "\n",
    "import pandas\n",
    "\n",
    "import numpy as np\n",
    "import xgboost as xgb\n",
    "from sklearn.model_selection import train_test_split, StratifiedKFold\n",
    "from sklearn.metrics import accuracy_score\n",
    "\n",
    "import matplotlib.pyplot as plt\n",
    "\n",
    "from sklearn.model_selection import cross_val_score\n",
    "from sklearn.ensemble import RandomForestClassifier, ExtraTreesClassifier\n",
    "from sklearn.pipeline import Pipeline\n",
    "from sklearn import tree\n",
    "import pydotplus \n",
    "\n",
    "import scipy\n",
    "from scipy import sqrt\n",
    "\n",
    "import sys\n",
    "sys.path.append('./modules/')\n",
    "from Processors import *"
   ]
  },
  {
   "cell_type": "markdown",
   "metadata": {},
   "source": [
    "## Skim size, Acceptance, xSec and luminosity"
   ]
  },
  {
   "cell_type": "code",
   "execution_count": 102,
   "metadata": {
    "collapsed": true
   },
   "outputs": [],
   "source": [
    "luminosity = 100\n",
    "\n",
    "signalFullSize = [50000, 50000, 49600, 50000, 50000, 50000, 100000, 100000, 100000, 99800]\n",
    "signalSkimSize = [403, 394, 390, 372, 479, 655, 1619, 1858, 2008, 2239]\n",
    "signalXSec = [2.4524985139, 3.2882620826, 3.8318006272, 4.5185294336, 4.9327584051,\n",
    "              5.6041453978, 5.7246882202, 5.6830461542, 5.5990314598, 5.3528318771]\n",
    "signalAcceptance = [a/b for a,b in zip(signalSkimSize, signalFullSize)]\n",
    "\n",
    "allSignalFullSize = sum(signalFullSize)\n",
    "allSignalSkimSize = sum(signalSkimSize)\n",
    "allSignalAcceptance = allSignalSkimSize/allSignalFullSize\n",
    "\n",
    "backgroundFullSize = [92925926, 47502020]\n",
    "backgroundSkimSize = [166157, 1896]\n",
    "backgroundXSec = [816, 61526.7]\n",
    "backgroundAcceptance = [a/b for a,b in zip(backgroundSkimSize, backgroundFullSize)]\n",
    "\n",
    "allBackgroundFullSize = sum(backgroundFullSize)\n",
    "allBackgroundSkimSize = sum(backgroundSkimSize)\n",
    "allBackGroundAcceptance = allBackgroundSkimSize/allBackgroundFullSize"
   ]
  },
  {
   "cell_type": "markdown",
   "metadata": {},
   "source": [
    "### Calculate significância"
   ]
  },
  {
   "cell_type": "code",
   "execution_count": 93,
   "metadata": {
    "collapsed": true
   },
   "outputs": [],
   "source": [
    "def SignalSignificanceSelector(SignalSignificance):\n",
    "    temp = sorted(SignalSignificance)[0:min(len(SignalSignificance), 3)]\n",
    "    return sum(temp)/len(temp)\n",
    "\n",
    "def calculateFOM(Signals, Backgounds, signalIdx, backgroundIdx, minimum=False):\n",
    "    s_signal, s_background = [], 0\n",
    "    for i, signal in enumerate(Signals):\n",
    "        s_signal.append(len(signal) * signalXSec[signalIdx[i]] / signalFullSize[signalIdx[i]] * luminosity)\n",
    "    \n",
    "    for i, background in enumerate(Backgounds):\n",
    "        s_background += len(background) * backgroundXSec[backgroundIdx[i]] / backgroundFullSize[backgroundIdx[i]] * luminosity\n",
    "    \n",
    "    if s_background != 0:\n",
    "        return SignalSignificanceSelector(s_signal) / sqrt(s_background)\n",
    "    else:\n",
    "        return -1"
   ]
  },
  {
   "cell_type": "code",
   "execution_count": 37,
   "metadata": {
    "collapsed": true
   },
   "outputs": [],
   "source": [
    "def mergeDataFrame(data):\n",
    "    allData = data[0]\n",
    "    for _data in data[1:]:\n",
    "        allData = allData.append(_data, ignore_index=True)\n",
    "    return allData"
   ]
  },
  {
   "cell_type": "code",
   "execution_count": 39,
   "metadata": {},
   "outputs": [
    {
     "name": "stdout",
     "output_type": "stream",
     "text": [
      "403 events for Higgs with 260 GeV\n",
      "394 events for Higgs with 270 GeV\n",
      "390 events for Higgs with 280 GeV\n",
      "372 events for Higgs with 300 GeV\n",
      "479 events for Higgs with 320 GeV\n",
      "655 events for Higgs with 400 GeV\n",
      "1619 events for Higgs with 500 GeV\n",
      "1858 events for Higgs with 550 GeV\n",
      "2008 events for Higgs with 600 GeV\n",
      "2239 events for Higgs with 700 GeV\n",
      "166157 TT_Tune events\n",
      "1896 WJetsToLNu_Tune events\n",
      "\n",
      "10417 events of Higgs\n",
      "168053 background events\n"
     ]
    }
   ],
   "source": [
    "loc = './Data/'\n",
    "\n",
    "masses = [260, 270, 280, 300, 320, 400, 500, 550, 600, 700]\n",
    "backgroundLabels = ['TT', 'WJets']\n",
    "\n",
    "signalData = []\n",
    "backgroundData = []\n",
    "\n",
    "for mass in masses:\n",
    "    signalData.append(pandas.read_csv(loc + \"GluGluToRadionToHHTo2B2Tau_M-\" + \n",
    "                                      str(mass) + \"_narrow_13TeV-madgraph.csv\"))\n",
    "\n",
    "# same as 2 but only the first half of the events\n",
    "#backgroundData.append(pandas.read_csv(loc + \"TT_TuneCUETP8M1_13TeV-powheg-pythia8_1.csv\"))\n",
    "backgroundData.append(pandas.read_csv(loc + \"TT_TuneCUETP8M1_13TeV-powheg-pythia8_2.csv\"))\n",
    "backgroundData.append(pandas.read_csv(loc + \"WJetsToLNu_TuneCUETP8M1_13TeV-amcatnloFXFX-pythia8.csv\"))\n",
    "\n",
    "\n",
    "# drop columns without header\n",
    "for mass, signal_data in zip(masses, signalData):\n",
    "    signal_data.drop([x for x in signal_data.columns if 'Unnamed' in x], axis=1, inplace=True)\n",
    "    signal_data['gen_label'] = str(mass)\n",
    "\n",
    "for label, background_data in zip(backgroundLabels, backgroundData):\n",
    "    background_data.drop([x for x in background_data.columns if 'Unnamed' in x], axis=1, inplace=True)\n",
    "    background_data['gen_label'] = label\n",
    "\n",
    "allSignalData = mergeDataFrame(signalData)\n",
    "allBackgroundData = mergeDataFrame(backgroundData)\n",
    "\n",
    "for i in range(len(energies)):\n",
    "    print(\"{} events for Higgs with {} GeV\".format(len(signalData[i]), energies[i]))\n",
    "print(\"{} TT_Tune events\".format(len(backgroundData[0])))\n",
    "print(\"{} WJetsToLNu_Tune events\".format(len(backgroundData[1])), end='\\n\\n')\n",
    "print(\"{} events of Higgs\".format(len(allSignalData)))\n",
    "print(\"{} background events\".format(len(allBackgroundData)))"
   ]
  },
  {
   "cell_type": "code",
   "execution_count": 40,
   "metadata": {
    "collapsed": true
   },
   "outputs": [],
   "source": [
    "# add column for classification\n",
    "#allSignalData['gen_classification'] = np.ones(len(allSignalData))\n",
    "#allBackgroundData['gen_classification'] = np.zeros(len(allBackgroundData))\n",
    "\n",
    "allData = allSignalData.append(allBackgroundData, ignore_index=True)\n",
    "allLabels = np.append(np.ones(len(allSignalData)),np.zeros(len(allBackgroundData)))"
   ]
  },
  {
   "cell_type": "code",
   "execution_count": 41,
   "metadata": {
    "collapsed": true
   },
   "outputs": [],
   "source": [
    "particles = ['t_0', 't_1', 'b_0', 'b_1', 'h_tt', 'h_bb', 'diH']\n",
    "\n",
    "for p in particles:\n",
    "    moveToCartesian(allData, p) #Move pT, eta, and phi to p_x, p_y, and p_z\n",
    "    addEnergy(allData, p) #Calculate energy and absolute momentum\n",
    "    \n",
    "moveToCartesian(allData, 'mPT', False)  #Move Missing pT and phi to p_x and p_y\n",
    "addAbsMom(allData, 'mPT', False) #Calculate absolute missing transverse momentum\n",
    "addMT(allData, allData['t_1_pT'], allData['t_1_phi'], 't_1') #Calculate transverse mass of tau_mu"
   ]
  },
  {
   "cell_type": "markdown",
   "metadata": {},
   "source": [
    "## select train variables"
   ]
  },
  {
   "cell_type": "code",
   "execution_count": 42,
   "metadata": {
    "collapsed": true
   },
   "outputs": [],
   "source": [
    "genFeatures = [var for var in allData.columns if str.startswith(var, \"gen\")] #Generator features; not for training\n",
    "trainFeatures = [var for var in allData.columns if var not in genFeatures] #Reconstructed features; ok for training"
   ]
  },
  {
   "cell_type": "code",
   "execution_count": 43,
   "metadata": {
    "collapsed": true
   },
   "outputs": [],
   "source": [
    "pTEtaPhi = [var for var in trainFeatures for x in ['phi', 't_1_mass'] if x in var] # 'pT', 'eta', \n",
    "other = [var for var in trainFeatures for x in ['diH_kinFit_prob'] if x in var]\n",
    "trainFeatures = [var for var in trainFeatures if var not in pTEtaPhi + other]"
   ]
  },
  {
   "cell_type": "code",
   "execution_count": 44,
   "metadata": {
    "collapsed": true
   },
   "outputs": [],
   "source": [
    "fsFeatures = [var for var in trainFeatures for p in particles + ['mPT'] if p in var]\n",
    "shapes = [var for var in trainFeatures for x in ['aplan', 'dShape', 'spher', 'upsilon'] if x in var]\n",
    "shapeFeatures = [var for var in trainFeatures if var in shapes]\n",
    "eventKinematicFeatures = ['centrality', 'eVis', 'hT', 'sT']\n",
    "jetFeatures = [var for var in trainFeatures if 'Jet' in var and 'Jets' not in var]\n",
    "multiplicityFeatures = ['nBJets', 'nJets', 'nPhotons', 'nTauJets']"
   ]
  },
  {
   "cell_type": "code",
   "execution_count": 45,
   "metadata": {},
   "outputs": [
    {
     "name": "stdout",
     "output_type": "stream",
     "text": [
      "Training on 64 features ['t_0_pT', 't_0_eta', 't_0_mass', 't_1_pT', 't_1_eta', 'b_0_pT', 'b_0_eta', 'b_0_mass', 'b_0_csv', 'b_1_pT', 'b_1_eta', 'b_1_mass', 'b_1_csv', 'mPT_pT', 'h_tt_pT', 'h_tt_eta', 'h_tt_mass', 'h_tt_svFit_mass', 'h_bb_pT', 'h_bb_eta', 'h_bb_mass', 'diH_pT', 'diH_eta', 'diH_mass', 'diH_kinFit_mass', 't_0_px', 't_0_py', 't_0_pz', 't_0_|p|', 't_0_E', 't_1_px', 't_1_py', 't_1_pz', 't_1_|p|', 't_1_E', 'b_0_px', 'b_0_py', 'b_0_pz', 'b_0_|p|', 'b_0_E', 'b_1_px', 'b_1_py', 'b_1_pz', 'b_1_|p|', 'b_1_E', 'h_tt_px', 'h_tt_py', 'h_tt_pz', 'h_tt_|p|', 'h_tt_E', 'h_bb_px', 'h_bb_py', 'h_bb_pz', 'h_bb_|p|', 'h_bb_E', 'diH_px', 'diH_py', 'diH_pz', 'diH_|p|', 'diH_E', 'mPT_px', 'mPT_py', 'mPT_|p|', 't_1_mT']\n"
     ]
    }
   ],
   "source": [
    "classTrainFeatures = fsFeatures\n",
    "print(\"Training on {} features {}\". format(len(classTrainFeatures), classTrainFeatures))"
   ]
  },
  {
   "cell_type": "code",
   "execution_count": 9,
   "metadata": {
    "collapsed": true
   },
   "outputs": [],
   "source": [
    "X_train, X_test, y_train, y_test = train_test_split(allData[classTrainFeatures], allLabels, test_size=0.2, random_state=2345)\n",
    "for var in (X_train, X_test):\n",
    "    var.reset_index(inplace=True, drop=True)"
   ]
  },
  {
   "cell_type": "markdown",
   "metadata": {},
   "source": [
    "## Remove points who fail conversion to float32"
   ]
  },
  {
   "cell_type": "code",
   "execution_count": 10,
   "metadata": {
    "collapsed": true
   },
   "outputs": [],
   "source": [
    "def cleanData(X, y):\n",
    "    \"\"\"\n",
    "    Recives data and labels (X and y)\n",
    "    \n",
    "    Returns: X, y after removing points that would fail to convert to float32 \n",
    "    \"\"\"\n",
    "    over  = (X > np.finfo(np.float32).max)\n",
    "    under = (X < np.finfo(np.float32).min)\n",
    "    selecting = pandas.Series(np.zeros(len(X)), dtype=np.bool)\n",
    "\n",
    "    for label in over.columns:\n",
    "        selecting = selecting | over[label] | under[label]\n",
    "    \n",
    "    y = y[np.logical_not(selecting)]#.astype('float32')\n",
    "    X = X[np.logical_not(selecting)].reset_index(drop=True)#.values.astype('float32')\n",
    "    \n",
    "    return X, y"
   ]
  },
  {
   "cell_type": "code",
   "execution_count": 11,
   "metadata": {
    "collapsed": true
   },
   "outputs": [],
   "source": [
    "X_train, y_train = cleanData(X_train, y_train)\n",
    "X_test , y_test  = cleanData(X_test , y_test )"
   ]
  },
  {
   "cell_type": "code",
   "execution_count": 12,
   "metadata": {
    "collapsed": true
   },
   "outputs": [],
   "source": [
    "scale = len(allBackgroundData)/len(allSignalData)\n",
    "\n",
    "weights_train = np.ones(len(y_train))\n",
    "weights_test = np.ones(len(y_test))\n",
    "\n",
    "weights_train[y_train == 1] = scale\n",
    "weights_test[y_test == 1] = scale"
   ]
  },
  {
   "cell_type": "code",
   "execution_count": 106,
   "metadata": {},
   "outputs": [],
   "source": [
    "%%time\n",
    "# fit model on training data\n",
    "model = xgb.XGBClassifier(random_state=1337, silent=False,\n",
    "                          scale_pos_weight=scale,\n",
    "                          objective='binary:logistic',\n",
    "                          n_estimators=100, eval_metric='auc',\n",
    "                          n_jobs=8) #NOTE: number os threads to execute\n",
    "model.fit(X_train, y_train)"
   ]
  },
  {
   "cell_type": "code",
   "execution_count": 14,
   "metadata": {
    "collapsed": true
   },
   "outputs": [],
   "source": [
    "# make predictions for test data\n",
    "y_pred = model.predict(X_test)\n",
    "predictions = [round(value) for value in y_pred]"
   ]
  },
  {
   "cell_type": "code",
   "execution_count": 15,
   "metadata": {},
   "outputs": [
    {
     "name": "stdout",
     "output_type": "stream",
     "text": [
      "Accuracy           : 91.60292510716988%\n",
      "Accuracy signal    : 91.22807017543859%\n",
      "Accuracy background: 91.62511870845205%\n"
     ]
    }
   ],
   "source": [
    "# evaluate predictions\n",
    "accuracy = accuracy_score(y_test, predictions)\n",
    "print(\"Accuracy           : {:10}%\".format(accuracy * 100.0))\n",
    "\n",
    "accuracy = accuracy_score(y_test, predictions, sample_weight=y_test)\n",
    "print(\"Accuracy signal    : {:10}%\".format(accuracy * 100.0))\n",
    "\n",
    "accuracy = accuracy_score(y_test, predictions, sample_weight=np.logical_not(y_test))\n",
    "print(\"Accuracy background: {:10}%\".format(accuracy * 100.0))"
   ]
  },
  {
   "cell_type": "code",
   "execution_count": 16,
   "metadata": {},
   "outputs": [
    {
     "name": "stdout",
     "output_type": "stream",
     "text": [
      "0.921286637765\n",
      "0.914311492549\n"
     ]
    }
   ],
   "source": [
    "print(model.score(X_train, y_train, sample_weight=weights_train))\n",
    "print(model.score(X_test, y_test, sample_weight=weights_test))"
   ]
  },
  {
   "cell_type": "code",
   "execution_count": 17,
   "metadata": {},
   "outputs": [
    {
     "data": {
      "image/png": "[encoded data removed]",
      "text/plain": [
       "<matplotlib.figure.Figure at 0x7fc2f61cb940>"
      ]
     },
     "metadata": {},
     "output_type": "display_data"
    }
   ],
   "source": [
    "from sklearn import metrics\n",
    "\n",
    "plt.figure(figsize=[8, 8])\n",
    "plt.plot(*metrics.roc_curve(y_train, model.predict_proba(X_train)[:,1])[:2],\n",
    "         label=r'Dev, auc=${:.4f}$'.format(metrics.roc_auc_score(y_train, model.predict_proba(X_train)[:,1])),\n",
    "         color='b', linestyle='dashed')\n",
    "plt.plot(*metrics.roc_curve(y_test, model.predict_proba(X_test)[:,1])[:2], \n",
    "         label=r'Val, auc=${:.4f}$'.format(metrics.roc_auc_score(y_test, model.predict_proba(X_test)[:,1])),\n",
    "         color='b')\n",
    "plt.plot([0, 1], [0, 1], 'k--', label='No discrimination')\n",
    "plt.xlabel('Background acceptance', fontsize=24, color='black')\n",
    "plt.ylabel('Signal acceptance', fontsize=24, color='black')\n",
    "plt.legend(loc='best', fontsize=16)\n",
    "plt.show()"
   ]
  },
  {
   "cell_type": "code",
   "execution_count": 76,
   "metadata": {},
   "outputs": [
    {
     "name": "stdout",
     "output_type": "stream",
     "text": [
      "260 0.680393\n",
      "270 0.683155\n",
      "280 0.667663\n",
      "300 0.65248\n",
      "320 0.691766\n",
      "400 0.754606\n",
      "500 0.87943\n",
      "550 0.912789\n",
      "600 0.935155\n",
      "700 0.954147\n"
     ]
    }
   ],
   "source": [
    "backgroundTestData, signalTestData = [], []\n",
    "backgroundScore, signalScore = [], []\n",
    "\n",
    "for label in backgroundLabels:\n",
    "    selection = allData['gen_label'] == label\n",
    "    var = allData[selection]\n",
    "    \n",
    "    backgroundTestData.append(var)\n",
    "    backgroundScore.append(model.predict_proba(var[classTrainFeatures])[:,1])\n",
    "\n",
    "for mass in masses:\n",
    "    selection = allData['gen_label'] == str(mass)\n",
    "    var = allData[selection]\n",
    "    \n",
    "    signalTestData.append(var)\n",
    "    signalScore.append(model.predict_proba(var[classTrainFeatures])[:,1])\n",
    "    print(mass, np.average(model.predict_proba(var[classTrainFeatures])[:,1]))\n",
    "    \n",
    "    #metrics.roc_auc_score(allLabels[selection], model.predict_proba(dataMass[classTrainFeatures])[:,1])\n"
   ]
  },
  {
   "cell_type": "code",
   "execution_count": 96,
   "metadata": {},
   "outputs": [],
   "source": [
    "def FOMAfterCut(p):\n",
    "    cutSignal, cutBackground = [], []\n",
    "    for data, scores in zip(signalTestData, signalScore):\n",
    "        cutSignal.append(data[(scores > p)])\n",
    "    for data, scores in zip(backgroundTestData, backgroundScore):\n",
    "        cutBackground.append(data[(scores > p)])\n",
    "\n",
    "    return calculateFOM(cutSignal, cutBackground, range(len(cutSignal)), range(len(cutBackground)))"
   ]
  },
  {
   "cell_type": "code",
   "execution_count": 104,
   "metadata": {},
   "outputs": [
    {
     "data": {
      "image/png": "[encoded data removed]",
      "text/plain": [
       "<matplotlib.figure.Figure at 0x7fc2f63227f0>"
      ]
     },
     "metadata": {},
     "output_type": "display_data"
    }
   ],
   "source": [
    "x = np.linspace(0,.99,100)\n",
    "y = []\n",
    "for i in x:\n",
    "    y.append(FOMAfterCut(i))\n",
    "\n",
    "plt.plot(x, y)\n",
    "plt.show()"
   ]
  },
  {
   "cell_type": "code",
   "execution_count": 121,
   "metadata": {},
   "outputs": [
    {
     "name": "stdout",
     "output_type": "stream",
     "text": [
      "Fitting 3 folds for each of 6 candidates, totalling 18 fits\n",
      "[CV] max_depth=1 .....................................................\n",
      "[CV] ...................................... max_depth=1, total=   3.5s\n",
      "[CV] max_depth=1 .....................................................\n"
     ]
    },
    {
     "name": "stderr",
     "output_type": "stream",
     "text": [
      "[Parallel(n_jobs=1)]: Done   1 out of   1 | elapsed:    3.5s remaining:    0.0s\n"
     ]
    },
    {
     "name": "stdout",
     "output_type": "stream",
     "text": [
      "[CV] ...................................... max_depth=1, total=   3.7s\n",
      "[CV] max_depth=1 .....................................................\n",
      "[CV] ...................................... max_depth=1, total=   4.8s\n",
      "[CV] max_depth=2 .....................................................\n",
      "[CV] ...................................... max_depth=2, total=   6.1s\n",
      "[CV] max_depth=2 .....................................................\n",
      "[CV] ...................................... max_depth=2, total=   8.1s\n",
      "[CV] max_depth=2 .....................................................\n",
      "[CV] ...................................... max_depth=2, total=   6.4s\n",
      "[CV] max_depth=3 .....................................................\n",
      "[CV] ...................................... max_depth=3, total=  12.9s\n",
      "[CV] max_depth=3 .....................................................\n",
      "[CV] ...................................... max_depth=3, total=  12.5s\n",
      "[CV] max_depth=3 .....................................................\n",
      "[CV] ...................................... max_depth=3, total=  12.7s\n",
      "[CV] max_depth=4 .....................................................\n",
      "[CV] ...................................... max_depth=4, total=  15.7s\n",
      "[CV] max_depth=4 .....................................................\n",
      "[CV] ...................................... max_depth=4, total=  15.7s\n",
      "[CV] max_depth=4 .....................................................\n",
      "[CV] ...................................... max_depth=4, total=  16.1s\n",
      "[CV] max_depth=5 .....................................................\n",
      "[CV] ...................................... max_depth=5, total=  18.9s\n",
      "[CV] max_depth=5 .....................................................\n",
      "[CV] ...................................... max_depth=5, total=  20.1s\n",
      "[CV] max_depth=5 .....................................................\n",
      "[CV] ...................................... max_depth=5, total=  18.9s\n",
      "[CV] max_depth=6 .....................................................\n",
      "[CV] ...................................... max_depth=6, total=  23.5s\n",
      "[CV] max_depth=6 .....................................................\n",
      "[CV] ...................................... max_depth=6, total=  23.4s\n",
      "[CV] max_depth=6 .....................................................\n",
      "[CV] ...................................... max_depth=6, total=  23.7s\n"
     ]
    },
    {
     "name": "stderr",
     "output_type": "stream",
     "text": [
      "[Parallel(n_jobs=1)]: Done  18 out of  18 | elapsed:  4.1min finished\n"
     ]
    },
    {
     "data": {
      "text/plain": [
       "GridSearchCV(cv=None, error_score='raise',\n",
       "       estimator=XGBClassifier(base_score=0.5, booster='gbtree', colsample_bylevel=1,\n",
       "       colsample_bytree=1, eval_metric='auc', gamma=0, learning_rate=0.1,\n",
       "       max_delta_step=0, max_depth=1, min_child_weight=1, missing=None,\n",
       "       n_estimators=100, n_jobs=8, nthread=None,\n",
       "       objective='binary:logistic', random_state=1337, reg_alpha=0,\n",
       "       reg_lambda=1, scale_pos_weight=16.132571757703754, seed=None,\n",
       "       silent=False, subsample=1),\n",
       "       fit_params={}, iid=True, n_jobs=1,\n",
       "       param_grid={'max_depth': range(1, 7)}, pre_dispatch='2*n_jobs',\n",
       "       refit=True, return_train_score=True, scoring=None, verbose=2)"
      ]
     },
     "execution_count": 121,
     "metadata": {},
     "output_type": "execute_result"
    }
   ],
   "source": [
    "from sklearn.model_selection import GridSearchCV\n",
    "asd = GridSearchCV(model, {'max_depth': range(1,7)}, n_jobs=1, verbose=2)\n",
    "\n",
    "asd.fit(X_train, y_train)"
   ]
  },
  {
   "cell_type": "code",
   "execution_count": 125,
   "metadata": {},
   "outputs": [
    {
     "data": {
      "text/plain": [
       "{'mean_fit_time': array([  3.94400318,   6.82846657,  12.62678719,  15.77390631,\n",
       "         19.21792857,  23.45101746]),\n",
       " 'mean_score_time': array([ 0.04031142,  0.05078244,  0.0596389 ,  0.06285787,  0.08109085,\n",
       "         0.07790478]),\n",
       " 'mean_test_score': array([ 0.88872312,  0.90554038,  0.91734258,  0.92558661,  0.93397072,\n",
       "         0.94348252]),\n",
       " 'mean_train_score': array([ 0.88965819,  0.90662604,  0.91910415,  0.92884009,  0.94078238,\n",
       "         0.95496603]),\n",
       " 'param_max_depth': masked_array(data = [1 2 3 4 5 6],\n",
       "              mask = [False False False False False False],\n",
       "        fill_value = ?),\n",
       " 'params': ({'max_depth': 1},\n",
       "  {'max_depth': 2},\n",
       "  {'max_depth': 3},\n",
       "  {'max_depth': 4},\n",
       "  {'max_depth': 5},\n",
       "  {'max_depth': 6}),\n",
       " 'rank_test_score': array([6, 5, 4, 3, 2, 1], dtype=int32),\n",
       " 'split0_test_score': array([ 0.88928346,  0.90628283,  0.91857533,  0.92695945,  0.93563774,\n",
       "         0.94553478]),\n",
       " 'split0_train_score': array([ 0.89053373,  0.90681866,  0.91903761,  0.92976466,  0.94219374,\n",
       "         0.95646144]),\n",
       " 'split1_test_score': array([ 0.88487077,  0.90363522,  0.91548645,  0.92435386,  0.93305316,\n",
       "         0.9419626 ]),\n",
       " 'split1_train_score': array([ 0.88915739,  0.90555789,  0.9178714 ,  0.92751628,  0.93822232,\n",
       "         0.95334104]),\n",
       " 'split2_test_score': array([ 0.89201513,  0.90670309,  0.91796596,  0.92544652,  0.93322126,\n",
       "         0.9429502 ]),\n",
       " 'split2_train_score': array([ 0.88928346,  0.90750158,  0.92040345,  0.92923934,  0.94193108,\n",
       "         0.95509561]),\n",
       " 'std_fit_time': array([ 0.57097536,  0.88815205,  0.20572902,  0.1989257 ,  0.54987628,\n",
       "         0.11234455]),\n",
       " 'std_score_time': array([ 0.00841086,  0.00532943,  0.00958579,  0.00340535,  0.01197546,\n",
       "         0.0036571 ]),\n",
       " 'std_test_score': array([ 0.00294346,  0.00135803,  0.00133585,  0.00106833,  0.00118076,\n",
       "         0.00150613]),\n",
       " 'std_train_score': array([ 0.00062123,  0.00080511,  0.00103477,  0.00096033,  0.00181341,\n",
       "         0.00127719])}"
      ]
     },
     "execution_count": 125,
     "metadata": {},
     "output_type": "execute_result"
    }
   ],
   "source": [
    "asd.cv_results_"
   ]
  }
 ],
 "metadata": {
  "kernelspec": {
   "display_name": "Python 3",
   "language": "python",
   "name": "python3"
  },
  "language_info": {
   "codemirror_mode": {
    "name": "ipython",
    "version": 3
   },
   "file_extension": ".py",
   "mimetype": "text/x-python",
   "name": "python",
   "nbconvert_exporter": "python",
   "pygments_lexer": "ipython3",
   "version": "3.5.2"
  }
 },
 "nbformat": 4,
 "nbformat_minor": 2
}
